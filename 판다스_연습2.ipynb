{
  "nbformat": 4,
  "nbformat_minor": 0,
  "metadata": {
    "colab": {
      "name": "판다스 연습2.ipynb",
      "provenance": [],
      "collapsed_sections": [],
      "include_colab_link": true
    },
    "kernelspec": {
      "name": "python3",
      "display_name": "Python 3"
    }
  },
  "cells": [
    {
      "cell_type": "markdown",
      "metadata": {
        "id": "view-in-github",
        "colab_type": "text"
      },
      "source": [
        "<a href=\"https://colab.research.google.com/github/jeongtongim/thejoeun/blob/master/%ED%8C%90%EB%8B%A4%EC%8A%A4_%EC%97%B0%EC%8A%B52.ipynb\" target=\"_parent\"><img src=\"https://colab.research.google.com/assets/colab-badge.svg\" alt=\"Open In Colab\"/></a>"
      ]
    },
    {
      "cell_type": "code",
      "metadata": {
        "id": "rKA5pEZ3YtFO",
        "colab_type": "code",
        "colab": {}
      },
      "source": [
        "import pandas as pd"
      ],
      "execution_count": 0,
      "outputs": []
    },
    {
      "cell_type": "code",
      "metadata": {
        "id": "hvbQgj54YyY_",
        "colab_type": "code",
        "colab": {}
      },
      "source": [
        "import numpy as np"
      ],
      "execution_count": 0,
      "outputs": []
    },
    {
      "cell_type": "code",
      "metadata": {
        "id": "Z-q7L1ANY2fQ",
        "colab_type": "code",
        "colab": {
          "base_uri": "https://localhost:8080/",
          "height": 70
        },
        "outputId": "f7e9a3dc-420f-426a-ffb3-38443b4b5d43"
      },
      "source": [
        "dates = pd.date_range(\"2019-10-22\", periods=6)\n",
        "dates\n"
      ],
      "execution_count": 3,
      "outputs": [
        {
          "output_type": "execute_result",
          "data": {
            "text/plain": [
              "DatetimeIndex(['2019-10-22', '2019-10-23', '2019-10-24', '2019-10-25',\n",
              "               '2019-10-26', '2019-10-27'],\n",
              "              dtype='datetime64[ns]', freq='D')"
            ]
          },
          "metadata": {
            "tags": []
          },
          "execution_count": 3
        }
      ]
    },
    {
      "cell_type": "code",
      "metadata": {
        "id": "DygZOkL9ZRMC",
        "colab_type": "code",
        "colab": {}
      },
      "source": [
        "# 데이터를 수집 한뒤 무조건 table형태로 만들어야 함"
      ],
      "execution_count": 0,
      "outputs": []
    },
    {
      "cell_type": "code",
      "metadata": {
        "id": "vycFMubWZuLh",
        "colab_type": "code",
        "colab": {
          "base_uri": "https://localhost:8080/",
          "height": 225
        },
        "outputId": "e3ee278c-6f5a-4520-9c58-7f36494bc897"
      },
      "source": [
        "df = pd.DataFrame(np.random.randn(6, 4), index=dates, columns=[\"A\", \"B\", \"C\", \"D\"]) # 데이터를 분석하기 위한 기본적인 틀(데이터를 table형태로 만들어줌). (인스턴스:실제값, 인덱스, 컬럼명)\n",
        "df"
      ],
      "execution_count": 7,
      "outputs": [
        {
          "output_type": "execute_result",
          "data": {
            "text/html": [
              "<div>\n",
              "<style scoped>\n",
              "    .dataframe tbody tr th:only-of-type {\n",
              "        vertical-align: middle;\n",
              "    }\n",
              "\n",
              "    .dataframe tbody tr th {\n",
              "        vertical-align: top;\n",
              "    }\n",
              "\n",
              "    .dataframe thead th {\n",
              "        text-align: right;\n",
              "    }\n",
              "</style>\n",
              "<table border=\"1\" class=\"dataframe\">\n",
              "  <thead>\n",
              "    <tr style=\"text-align: right;\">\n",
              "      <th></th>\n",
              "      <th>A</th>\n",
              "      <th>B</th>\n",
              "      <th>C</th>\n",
              "      <th>D</th>\n",
              "    </tr>\n",
              "  </thead>\n",
              "  <tbody>\n",
              "    <tr>\n",
              "      <th>2019-10-22</th>\n",
              "      <td>0.877241</td>\n",
              "      <td>0.670800</td>\n",
              "      <td>0.671640</td>\n",
              "      <td>-1.933794</td>\n",
              "    </tr>\n",
              "    <tr>\n",
              "      <th>2019-10-23</th>\n",
              "      <td>-2.154191</td>\n",
              "      <td>-1.327042</td>\n",
              "      <td>-1.819081</td>\n",
              "      <td>0.214175</td>\n",
              "    </tr>\n",
              "    <tr>\n",
              "      <th>2019-10-24</th>\n",
              "      <td>-0.729888</td>\n",
              "      <td>-0.209935</td>\n",
              "      <td>0.394955</td>\n",
              "      <td>-0.804695</td>\n",
              "    </tr>\n",
              "    <tr>\n",
              "      <th>2019-10-25</th>\n",
              "      <td>0.528503</td>\n",
              "      <td>-1.084863</td>\n",
              "      <td>-0.621061</td>\n",
              "      <td>-0.580301</td>\n",
              "    </tr>\n",
              "    <tr>\n",
              "      <th>2019-10-26</th>\n",
              "      <td>0.400802</td>\n",
              "      <td>1.708109</td>\n",
              "      <td>-0.037254</td>\n",
              "      <td>0.180519</td>\n",
              "    </tr>\n",
              "    <tr>\n",
              "      <th>2019-10-27</th>\n",
              "      <td>-0.543525</td>\n",
              "      <td>0.249552</td>\n",
              "      <td>-0.713127</td>\n",
              "      <td>2.447479</td>\n",
              "    </tr>\n",
              "  </tbody>\n",
              "</table>\n",
              "</div>"
            ],
            "text/plain": [
              "                   A         B         C         D\n",
              "2019-10-22  0.877241  0.670800  0.671640 -1.933794\n",
              "2019-10-23 -2.154191 -1.327042 -1.819081  0.214175\n",
              "2019-10-24 -0.729888 -0.209935  0.394955 -0.804695\n",
              "2019-10-25  0.528503 -1.084863 -0.621061 -0.580301\n",
              "2019-10-26  0.400802  1.708109 -0.037254  0.180519\n",
              "2019-10-27 -0.543525  0.249552 -0.713127  2.447479"
            ]
          },
          "metadata": {
            "tags": []
          },
          "execution_count": 7
        }
      ]
    },
    {
      "cell_type": "code",
      "metadata": {
        "id": "9Qf0wem7bRtP",
        "colab_type": "code",
        "colab": {
          "base_uri": "https://localhost:8080/",
          "height": 136
        },
        "outputId": "b42fab09-4f16-4756-c3b1-7e581204b3b5"
      },
      "source": [
        "df.head(3) # 앞의 명령한 수만 출력"
      ],
      "execution_count": 8,
      "outputs": [
        {
          "output_type": "execute_result",
          "data": {
            "text/html": [
              "<div>\n",
              "<style scoped>\n",
              "    .dataframe tbody tr th:only-of-type {\n",
              "        vertical-align: middle;\n",
              "    }\n",
              "\n",
              "    .dataframe tbody tr th {\n",
              "        vertical-align: top;\n",
              "    }\n",
              "\n",
              "    .dataframe thead th {\n",
              "        text-align: right;\n",
              "    }\n",
              "</style>\n",
              "<table border=\"1\" class=\"dataframe\">\n",
              "  <thead>\n",
              "    <tr style=\"text-align: right;\">\n",
              "      <th></th>\n",
              "      <th>A</th>\n",
              "      <th>B</th>\n",
              "      <th>C</th>\n",
              "      <th>D</th>\n",
              "    </tr>\n",
              "  </thead>\n",
              "  <tbody>\n",
              "    <tr>\n",
              "      <th>2019-10-22</th>\n",
              "      <td>0.877241</td>\n",
              "      <td>0.670800</td>\n",
              "      <td>0.671640</td>\n",
              "      <td>-1.933794</td>\n",
              "    </tr>\n",
              "    <tr>\n",
              "      <th>2019-10-23</th>\n",
              "      <td>-2.154191</td>\n",
              "      <td>-1.327042</td>\n",
              "      <td>-1.819081</td>\n",
              "      <td>0.214175</td>\n",
              "    </tr>\n",
              "    <tr>\n",
              "      <th>2019-10-24</th>\n",
              "      <td>-0.729888</td>\n",
              "      <td>-0.209935</td>\n",
              "      <td>0.394955</td>\n",
              "      <td>-0.804695</td>\n",
              "    </tr>\n",
              "  </tbody>\n",
              "</table>\n",
              "</div>"
            ],
            "text/plain": [
              "                   A         B         C         D\n",
              "2019-10-22  0.877241  0.670800  0.671640 -1.933794\n",
              "2019-10-23 -2.154191 -1.327042 -1.819081  0.214175\n",
              "2019-10-24 -0.729888 -0.209935  0.394955 -0.804695"
            ]
          },
          "metadata": {
            "tags": []
          },
          "execution_count": 8
        }
      ]
    },
    {
      "cell_type": "code",
      "metadata": {
        "id": "burJgJkRcKYM",
        "colab_type": "code",
        "colab": {
          "base_uri": "https://localhost:8080/",
          "height": 34
        },
        "outputId": "6f488ddb-7bd6-42ca-add4-c5f1b0d5a373"
      },
      "source": [
        "df.columns # 컬럼명만 출력"
      ],
      "execution_count": 9,
      "outputs": [
        {
          "output_type": "execute_result",
          "data": {
            "text/plain": [
              "Index(['A', 'B', 'C', 'D'], dtype='object')"
            ]
          },
          "metadata": {
            "tags": []
          },
          "execution_count": 9
        }
      ]
    },
    {
      "cell_type": "code",
      "metadata": {
        "id": "oBdZjMdkcSMt",
        "colab_type": "code",
        "colab": {
          "base_uri": "https://localhost:8080/",
          "height": 122
        },
        "outputId": "3cf5bf7e-8c6a-4d42-c208-dd93b82c1c6b"
      },
      "source": [
        "df.values # 인스턴스만 출력"
      ],
      "execution_count": 10,
      "outputs": [
        {
          "output_type": "execute_result",
          "data": {
            "text/plain": [
              "array([[ 0.87724118,  0.67079964,  0.67163951, -1.93379382],\n",
              "       [-2.15419142, -1.32704236, -1.81908086,  0.21417453],\n",
              "       [-0.72988788, -0.2099349 ,  0.39495535, -0.8046946 ],\n",
              "       [ 0.52850339, -1.08486309, -0.62106108, -0.58030103],\n",
              "       [ 0.40080201,  1.70810937, -0.03725427,  0.18051863],\n",
              "       [-0.54352489,  0.24955151, -0.71312666,  2.44747905]])"
            ]
          },
          "metadata": {
            "tags": []
          },
          "execution_count": 10
        }
      ]
    },
    {
      "cell_type": "code",
      "metadata": {
        "id": "MRJGXa4BcT-s",
        "colab_type": "code",
        "colab": {
          "base_uri": "https://localhost:8080/",
          "height": 193
        },
        "outputId": "3feca69f-f275-4c2e-e3f1-ea00eeabeba1"
      },
      "source": [
        "df.info() # 테이블 정보 출력"
      ],
      "execution_count": 12,
      "outputs": [
        {
          "output_type": "stream",
          "text": [
            "<class 'pandas.core.frame.DataFrame'>\n",
            "DatetimeIndex: 6 entries, 2019-10-22 to 2019-10-27\n",
            "Freq: D\n",
            "Data columns (total 4 columns):\n",
            "A    6 non-null float64\n",
            "B    6 non-null float64\n",
            "C    6 non-null float64\n",
            "D    6 non-null float64\n",
            "dtypes: float64(4)\n",
            "memory usage: 240.0 bytes\n"
          ],
          "name": "stdout"
        }
      ]
    },
    {
      "cell_type": "code",
      "metadata": {
        "id": "DNiBij2tcU7E",
        "colab_type": "code",
        "colab": {
          "base_uri": "https://localhost:8080/",
          "height": 284
        },
        "outputId": "571cb549-b76e-411f-d217-2c9b05b6bf8b"
      },
      "source": [
        "df.describe() # 테이블 상세 정보 및 통계치 출력"
      ],
      "execution_count": 14,
      "outputs": [
        {
          "output_type": "execute_result",
          "data": {
            "text/html": [
              "<div>\n",
              "<style scoped>\n",
              "    .dataframe tbody tr th:only-of-type {\n",
              "        vertical-align: middle;\n",
              "    }\n",
              "\n",
              "    .dataframe tbody tr th {\n",
              "        vertical-align: top;\n",
              "    }\n",
              "\n",
              "    .dataframe thead th {\n",
              "        text-align: right;\n",
              "    }\n",
              "</style>\n",
              "<table border=\"1\" class=\"dataframe\">\n",
              "  <thead>\n",
              "    <tr style=\"text-align: right;\">\n",
              "      <th></th>\n",
              "      <th>A</th>\n",
              "      <th>B</th>\n",
              "      <th>C</th>\n",
              "      <th>D</th>\n",
              "    </tr>\n",
              "  </thead>\n",
              "  <tbody>\n",
              "    <tr>\n",
              "      <th>count</th>\n",
              "      <td>6.000000</td>\n",
              "      <td>6.000000</td>\n",
              "      <td>6.000000</td>\n",
              "      <td>6.000000</td>\n",
              "    </tr>\n",
              "    <tr>\n",
              "      <th>mean</th>\n",
              "      <td>-0.270176</td>\n",
              "      <td>0.001103</td>\n",
              "      <td>-0.353988</td>\n",
              "      <td>-0.079436</td>\n",
              "    </tr>\n",
              "    <tr>\n",
              "      <th>std</th>\n",
              "      <td>1.117160</td>\n",
              "      <td>1.132424</td>\n",
              "      <td>0.901105</td>\n",
              "      <td>1.466601</td>\n",
              "    </tr>\n",
              "    <tr>\n",
              "      <th>min</th>\n",
              "      <td>-2.154191</td>\n",
              "      <td>-1.327042</td>\n",
              "      <td>-1.819081</td>\n",
              "      <td>-1.933794</td>\n",
              "    </tr>\n",
              "    <tr>\n",
              "      <th>25%</th>\n",
              "      <td>-0.683297</td>\n",
              "      <td>-0.866131</td>\n",
              "      <td>-0.690110</td>\n",
              "      <td>-0.748596</td>\n",
              "    </tr>\n",
              "    <tr>\n",
              "      <th>50%</th>\n",
              "      <td>-0.071361</td>\n",
              "      <td>0.019808</td>\n",
              "      <td>-0.329158</td>\n",
              "      <td>-0.199891</td>\n",
              "    </tr>\n",
              "    <tr>\n",
              "      <th>75%</th>\n",
              "      <td>0.496578</td>\n",
              "      <td>0.565488</td>\n",
              "      <td>0.286903</td>\n",
              "      <td>0.205761</td>\n",
              "    </tr>\n",
              "    <tr>\n",
              "      <th>max</th>\n",
              "      <td>0.877241</td>\n",
              "      <td>1.708109</td>\n",
              "      <td>0.671640</td>\n",
              "      <td>2.447479</td>\n",
              "    </tr>\n",
              "  </tbody>\n",
              "</table>\n",
              "</div>"
            ],
            "text/plain": [
              "              A         B         C         D\n",
              "count  6.000000  6.000000  6.000000  6.000000\n",
              "mean  -0.270176  0.001103 -0.353988 -0.079436\n",
              "std    1.117160  1.132424  0.901105  1.466601\n",
              "min   -2.154191 -1.327042 -1.819081 -1.933794\n",
              "25%   -0.683297 -0.866131 -0.690110 -0.748596\n",
              "50%   -0.071361  0.019808 -0.329158 -0.199891\n",
              "75%    0.496578  0.565488  0.286903  0.205761\n",
              "max    0.877241  1.708109  0.671640  2.447479"
            ]
          },
          "metadata": {
            "tags": []
          },
          "execution_count": 14
        }
      ]
    },
    {
      "cell_type": "code",
      "metadata": {
        "id": "3wJ69FwjcnSQ",
        "colab_type": "code",
        "colab": {
          "base_uri": "https://localhost:8080/",
          "height": 225
        },
        "outputId": "48209d33-f94f-4989-f693-dff1257c59d6"
      },
      "source": [
        "df.sort_values(by=\"B\", ascending=False) # 인스턴스 정렬(by=\"컬럼명\", 오름내림차순설정)"
      ],
      "execution_count": 20,
      "outputs": [
        {
          "output_type": "execute_result",
          "data": {
            "text/html": [
              "<div>\n",
              "<style scoped>\n",
              "    .dataframe tbody tr th:only-of-type {\n",
              "        vertical-align: middle;\n",
              "    }\n",
              "\n",
              "    .dataframe tbody tr th {\n",
              "        vertical-align: top;\n",
              "    }\n",
              "\n",
              "    .dataframe thead th {\n",
              "        text-align: right;\n",
              "    }\n",
              "</style>\n",
              "<table border=\"1\" class=\"dataframe\">\n",
              "  <thead>\n",
              "    <tr style=\"text-align: right;\">\n",
              "      <th></th>\n",
              "      <th>A</th>\n",
              "      <th>B</th>\n",
              "      <th>C</th>\n",
              "      <th>D</th>\n",
              "    </tr>\n",
              "  </thead>\n",
              "  <tbody>\n",
              "    <tr>\n",
              "      <th>2019-10-26</th>\n",
              "      <td>0.400802</td>\n",
              "      <td>1.708109</td>\n",
              "      <td>-0.037254</td>\n",
              "      <td>0.180519</td>\n",
              "    </tr>\n",
              "    <tr>\n",
              "      <th>2019-10-22</th>\n",
              "      <td>0.877241</td>\n",
              "      <td>0.670800</td>\n",
              "      <td>0.671640</td>\n",
              "      <td>-1.933794</td>\n",
              "    </tr>\n",
              "    <tr>\n",
              "      <th>2019-10-27</th>\n",
              "      <td>-0.543525</td>\n",
              "      <td>0.249552</td>\n",
              "      <td>-0.713127</td>\n",
              "      <td>2.447479</td>\n",
              "    </tr>\n",
              "    <tr>\n",
              "      <th>2019-10-24</th>\n",
              "      <td>-0.729888</td>\n",
              "      <td>-0.209935</td>\n",
              "      <td>0.394955</td>\n",
              "      <td>-0.804695</td>\n",
              "    </tr>\n",
              "    <tr>\n",
              "      <th>2019-10-25</th>\n",
              "      <td>0.528503</td>\n",
              "      <td>-1.084863</td>\n",
              "      <td>-0.621061</td>\n",
              "      <td>-0.580301</td>\n",
              "    </tr>\n",
              "    <tr>\n",
              "      <th>2019-10-23</th>\n",
              "      <td>-2.154191</td>\n",
              "      <td>-1.327042</td>\n",
              "      <td>-1.819081</td>\n",
              "      <td>0.214175</td>\n",
              "    </tr>\n",
              "  </tbody>\n",
              "</table>\n",
              "</div>"
            ],
            "text/plain": [
              "                   A         B         C         D\n",
              "2019-10-26  0.400802  1.708109 -0.037254  0.180519\n",
              "2019-10-22  0.877241  0.670800  0.671640 -1.933794\n",
              "2019-10-27 -0.543525  0.249552 -0.713127  2.447479\n",
              "2019-10-24 -0.729888 -0.209935  0.394955 -0.804695\n",
              "2019-10-25  0.528503 -1.084863 -0.621061 -0.580301\n",
              "2019-10-23 -2.154191 -1.327042 -1.819081  0.214175"
            ]
          },
          "metadata": {
            "tags": []
          },
          "execution_count": 20
        }
      ]
    },
    {
      "cell_type": "code",
      "metadata": {
        "id": "KjXYwJrLdN2c",
        "colab_type": "code",
        "colab": {
          "base_uri": "https://localhost:8080/",
          "height": 140
        },
        "outputId": "20d257ea-d4f6-43c0-9309-0a3fbf15827c"
      },
      "source": [
        "df[\"A\"] # 해당컬럼만 출력"
      ],
      "execution_count": 21,
      "outputs": [
        {
          "output_type": "execute_result",
          "data": {
            "text/plain": [
              "2019-10-22    0.877241\n",
              "2019-10-23   -2.154191\n",
              "2019-10-24   -0.729888\n",
              "2019-10-25    0.528503\n",
              "2019-10-26    0.400802\n",
              "2019-10-27   -0.543525\n",
              "Freq: D, Name: A, dtype: float64"
            ]
          },
          "metadata": {
            "tags": []
          },
          "execution_count": 21
        }
      ]
    },
    {
      "cell_type": "code",
      "metadata": {
        "id": "Tj1donrec4tz",
        "colab_type": "code",
        "colab": {
          "base_uri": "https://localhost:8080/",
          "height": 136
        },
        "outputId": "94c7b7d8-4cb7-4bc4-f2ff-230a0e6bed30"
      },
      "source": [
        "df[3:] # 슬라이싱"
      ],
      "execution_count": 19,
      "outputs": [
        {
          "output_type": "execute_result",
          "data": {
            "text/html": [
              "<div>\n",
              "<style scoped>\n",
              "    .dataframe tbody tr th:only-of-type {\n",
              "        vertical-align: middle;\n",
              "    }\n",
              "\n",
              "    .dataframe tbody tr th {\n",
              "        vertical-align: top;\n",
              "    }\n",
              "\n",
              "    .dataframe thead th {\n",
              "        text-align: right;\n",
              "    }\n",
              "</style>\n",
              "<table border=\"1\" class=\"dataframe\">\n",
              "  <thead>\n",
              "    <tr style=\"text-align: right;\">\n",
              "      <th></th>\n",
              "      <th>A</th>\n",
              "      <th>B</th>\n",
              "      <th>C</th>\n",
              "      <th>D</th>\n",
              "    </tr>\n",
              "  </thead>\n",
              "  <tbody>\n",
              "    <tr>\n",
              "      <th>2019-10-25</th>\n",
              "      <td>0.528503</td>\n",
              "      <td>-1.084863</td>\n",
              "      <td>-0.621061</td>\n",
              "      <td>-0.580301</td>\n",
              "    </tr>\n",
              "    <tr>\n",
              "      <th>2019-10-26</th>\n",
              "      <td>0.400802</td>\n",
              "      <td>1.708109</td>\n",
              "      <td>-0.037254</td>\n",
              "      <td>0.180519</td>\n",
              "    </tr>\n",
              "    <tr>\n",
              "      <th>2019-10-27</th>\n",
              "      <td>-0.543525</td>\n",
              "      <td>0.249552</td>\n",
              "      <td>-0.713127</td>\n",
              "      <td>2.447479</td>\n",
              "    </tr>\n",
              "  </tbody>\n",
              "</table>\n",
              "</div>"
            ],
            "text/plain": [
              "                   A         B         C         D\n",
              "2019-10-25  0.528503 -1.084863 -0.621061 -0.580301\n",
              "2019-10-26  0.400802  1.708109 -0.037254  0.180519\n",
              "2019-10-27 -0.543525  0.249552 -0.713127  2.447479"
            ]
          },
          "metadata": {
            "tags": []
          },
          "execution_count": 19
        }
      ]
    },
    {
      "cell_type": "code",
      "metadata": {
        "id": "4ldCp0hGdhSj",
        "colab_type": "code",
        "colab": {}
      },
      "source": [
        ""
      ],
      "execution_count": 0,
      "outputs": []
    }
  ]
}